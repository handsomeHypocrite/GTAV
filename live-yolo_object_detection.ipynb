{
 "cells": [
  {
   "cell_type": "code",
   "execution_count": 1,
   "metadata": {},
   "outputs": [],
   "source": [
    "import cv2\n",
    "import numpy as np\n",
    "from PIL import ImageGrab\n",
    "import time\n",
    "\n",
    "# Load Yolo\n",
    "net = cv2.dnn.readNet(\"yolov3.weights\", \"yolov3.cfg\")\n",
    "classes = []\n",
    "with open(\"coco.names\", \"r\") as f:\n",
    "    classes = [line.strip() for line in f.readlines()]\n",
    "layer_names = net.getLayerNames()\n",
    "output_layers = [layer_names[i[0] - 1] for i in net.getUnconnectedOutLayers()]\n",
    "colors = np.random.uniform(0, 255, size=(len(classes), 3))\n"
   ]
  },
  {
   "cell_type": "code",
   "execution_count": 2,
   "metadata": {},
   "outputs": [],
   "source": [
    "# # Loading image\n",
    "# img = cv2.imread(\"kiosk.jpg\")\n",
    "# img = cv2.resize(img, None, fx=1, fy=1)\n",
    "# height, width, channels = img.shape"
   ]
  },
  {
   "cell_type": "code",
   "execution_count": 3,
   "metadata": {},
   "outputs": [],
   "source": [
    "def screen_record(): \n",
    "#     global out\n",
    "    last_time = time.time()    \n",
    "    while(True):\n",
    "        printscreen =  np.array(ImageGrab.grab(bbox=(20,250,1070, 900)))\n",
    "\n",
    "#         print('loop took {} seconds'.format(time.time()-last_time))\n",
    "        new_screen = process_img(printscreen, last_time)\n",
    "        last_time = time.time()\n",
    "        \n",
    "        cv2.imshow('window',cv2.cvtColor(printscreen, cv2.COLOR_BGR2RGB))\n",
    "        if cv2.waitKey(1) & 0xFF == ord('q'):\n",
    "#         if cv2.waitKey(0):\n",
    "\n",
    "#             out.release()\n",
    "            cv2.destroyAllWindows()\n",
    "            break\n",
    "            \n",
    "            "
   ]
  },
  {
   "cell_type": "code",
   "execution_count": 4,
   "metadata": {},
   "outputs": [],
   "source": [
    "def vid_stream():\n",
    "    cap = cv2.VideoCapture(\"walking.mp4\")\n",
    "    last_time = time.time()    \n",
    "    frame_id = 0\n",
    "    \n",
    "    while True:\n",
    "        _, printscreen = cap.read()\n",
    "        frame_id += 1\n",
    "        last_time = time.time()        \n",
    "\n",
    "#         print('loop took {} seconds'.format(time.time()-last_time))\n",
    "        new_screen = process_img(printscreen, last_time)\n",
    "        last_time = time.time()\n",
    "        \n",
    "#         cv2.imshow('window',cv2.cvtColor(printscreen, cv2.COLOR_BGR2RGB))\n",
    "        cv2.imshow('window',printscreen)\n",
    "        if cv2.waitKey(1) & 0xFF == ord('q'):\n",
    "#         if cv2.waitKey(0):\n",
    "\n",
    "#             out.release()\n",
    "            cv2.destroyAllWindows()\n",
    "            break"
   ]
  },
  {
   "cell_type": "code",
   "execution_count": 5,
   "metadata": {},
   "outputs": [],
   "source": [
    "# cv2.imshow('random string', img)\n",
    "# cv2.waitKey(0)\n",
    "# cv2.destroyAllWindows()"
   ]
  },
  {
   "cell_type": "code",
   "execution_count": 19,
   "metadata": {},
   "outputs": [],
   "source": [
    "def process_img(img, last_time):\n",
    "#     width=1050\n",
    "#     height=650\n",
    "    height, width, channels = img.shape\n",
    "    \n",
    "    # blob size determines speed & accuracy\n",
    "    blob = cv2.dnn.blobFromImage(img, 0.00392, (416, 416), (0, 0, 0), swapRB=True, crop=False)\n",
    "    net.setInput(blob)\n",
    "    outs = net.forward(output_layers)\n",
    "    class_ids = []\n",
    "    confidences = []\n",
    "    boxes = []\n",
    "#     peopleCount=0\n",
    "    for out in outs:\n",
    "        for detection in out:\n",
    "            scores = detection[5:]\n",
    "            class_id = np.argmax(scores)\n",
    "\n",
    "            confidence = scores[class_id]\n",
    "            if confidence > 0.3:\n",
    "\n",
    "#                 if classes[class_id]==\"person\": \n",
    "#                     peopleCount += 1\n",
    "# #                     print(peopleCount)\n",
    "\n",
    "                # Object detected\n",
    "                center_x = int(detection[0] * width)\n",
    "                center_y = int(detection[1] * height)\n",
    "                w = int(detection[2] * width)\n",
    "                h = int(detection[3] * height)\n",
    "\n",
    "                # Rectangle coordinates\n",
    "                x = int(center_x - w / 2)\n",
    "                y = int(center_y - h / 2)\n",
    "\n",
    "                boxes.append([x, y, w, h])\n",
    "                confidences.append(float(confidence))\n",
    "                class_ids.append(class_id)\n",
    "\n",
    "    indexes = cv2.dnn.NMSBoxes(boxes, confidences, 0.3, 0.27)\n",
    "    # print(indexes)\n",
    "    font = cv2.FONT_HERSHEY_PLAIN\n",
    "    peopleCount=0\n",
    "    for i in range(len(boxes)):\n",
    "        if i in indexes:\n",
    "            x, y, w, h = boxes[i]\n",
    "            label = str(classes[class_ids[i]])\n",
    "            confidence = confidences[i]\n",
    "            if label == \"person\": \n",
    "                peopleCount += 1\n",
    "#                 print(peopleCount)\n",
    "            \n",
    "            \n",
    "#             print(label)\n",
    "            color = colors[i]\n",
    "            cv2.rectangle(img, (x, y), (x + w, y + h), color, 2)\n",
    "            cv2.putText(img, label + \" \" + str(round(confidence,2)), (x, y + 30), font, 1, color, 2)\n",
    "\n",
    "    timeTaken = 'FPS: {}'.format(round(1/(time.time()-last_time),2))\n",
    "            \n",
    "            \n",
    "    cv2.putText(img, \"pax count: \" + str(peopleCount),(20,height-50), font, 2, (0,0,255), 2)\n",
    "    cv2.putText(img, timeTaken,(20,height-10), font, 2, (0,0,255), 2)\n",
    "\n",
    "    return(img)"
   ]
  },
  {
   "cell_type": "code",
   "execution_count": 20,
   "metadata": {},
   "outputs": [],
   "source": [
    "# screen_record()\n",
    "vid_stream()"
   ]
  }
 ],
 "metadata": {
  "kernelspec": {
   "display_name": "Python 3",
   "language": "python",
   "name": "python3"
  },
  "language_info": {
   "codemirror_mode": {
    "name": "ipython",
    "version": 3
   },
   "file_extension": ".py",
   "mimetype": "text/x-python",
   "name": "python",
   "nbconvert_exporter": "python",
   "pygments_lexer": "ipython3",
   "version": "3.6.8"
  }
 },
 "nbformat": 4,
 "nbformat_minor": 2
}
